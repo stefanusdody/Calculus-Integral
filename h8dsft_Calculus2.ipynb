{
 "cells": [
  {
   "cell_type": "code",
   "execution_count": 1,
   "id": "30ccf8da",
   "metadata": {},
   "outputs": [],
   "source": [
    "# Import Libraries\n",
    "import numpy as np\n",
    "from scipy import integrate"
   ]
  },
  {
   "cell_type": "markdown",
   "id": "bd294b73",
   "metadata": {},
   "source": [
    "#### Cari Integral dari:"
   ]
  },
  {
   "cell_type": "markdown",
   "id": "2c6b1371",
   "metadata": {},
   "source": [
    "$f(3x^2 - 6x + 3 )dx$"
   ]
  },
  {
   "cell_type": "code",
   "execution_count": 2,
   "id": "94f477db",
   "metadata": {},
   "outputs": [],
   "source": [
    "# menetapkan range batas\n",
    "x=np.linspace(3,6)"
   ]
  },
  {
   "cell_type": "code",
   "execution_count": 3,
   "id": "9f236c8d",
   "metadata": {},
   "outputs": [],
   "source": [
    "# mendeklasrasikan fungsi\n",
    "y=3*x**2-6*x+3"
   ]
  },
  {
   "cell_type": "code",
   "execution_count": 4,
   "id": "0a335cee",
   "metadata": {},
   "outputs": [
    {
     "data": {
      "text/plain": [
       "296.9943773427739"
      ]
     },
     "execution_count": 4,
     "metadata": {},
     "output_type": "execute_result"
    }
   ],
   "source": [
    "# Integral dari fungsi\n",
    "integrate.trapz(x,y)"
   ]
  },
  {
   "cell_type": "markdown",
   "id": "30e3daab",
   "metadata": {},
   "source": [
    "integral $f(3x^2 - 6x + 3 )dx$ dengan range titik x 3 sampai dengan 6 adalah 296.99"
   ]
  },
  {
   "cell_type": "markdown",
   "id": "67686b1d",
   "metadata": {},
   "source": [
    "#### Cari Integral dari:"
   ]
  },
  {
   "cell_type": "markdown",
   "id": "8253b715",
   "metadata": {},
   "source": [
    "$f(8x^3 - x^2 + 5x -1 )dx$"
   ]
  },
  {
   "cell_type": "code",
   "execution_count": 5,
   "id": "0ab3d156",
   "metadata": {},
   "outputs": [],
   "source": [
    "# menetapkan range batas\n",
    "x=np.linspace(2,4)"
   ]
  },
  {
   "cell_type": "code",
   "execution_count": 6,
   "id": "ac94ac29",
   "metadata": {},
   "outputs": [],
   "source": [
    "# mendeklarasikan fungsi\n",
    "y=8*x**3-1*x**2+5*x-1"
   ]
  },
  {
   "cell_type": "code",
   "execution_count": 7,
   "id": "78f4d7b2",
   "metadata": {},
   "outputs": [
    {
     "data": {
      "text/plain": [
       "1432.6272386505623"
      ]
     },
     "execution_count": 7,
     "metadata": {},
     "output_type": "execute_result"
    }
   ],
   "source": [
    "# Integral dari fungsi\n",
    "integrate.trapz(x,y)"
   ]
  },
  {
   "cell_type": "markdown",
   "id": "85bb4321",
   "metadata": {},
   "source": [
    "Integral $f(8x^3 - 1x^2 + 5x -1 )dx$ dengan range titik x 2 sampai dengan 4 adalah 1431.63"
   ]
  },
  {
   "cell_type": "code",
   "execution_count": null,
   "id": "df1b9c1e",
   "metadata": {},
   "outputs": [],
   "source": []
  }
 ],
 "metadata": {
  "kernelspec": {
   "display_name": "Python 3",
   "language": "python",
   "name": "python3"
  },
  "language_info": {
   "codemirror_mode": {
    "name": "ipython",
    "version": 3
   },
   "file_extension": ".py",
   "mimetype": "text/x-python",
   "name": "python",
   "nbconvert_exporter": "python",
   "pygments_lexer": "ipython3",
   "version": "3.8.5"
  }
 },
 "nbformat": 4,
 "nbformat_minor": 5
}
